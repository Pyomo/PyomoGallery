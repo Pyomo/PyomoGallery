{
  "cells": [
    {
      "cell_type": "code",
      "execution_count": null,
      "metadata": {},
      "outputs": [],
      "source": [
        "#  ___________________________________________________________________________\n#\n#  Pyomo: Python Optimization Modeling Objects\n#  Copyright (c) 2015-2025\n#  National Technology and Engineering Solutions of Sandia, LLC\n#  Under the terms of Contract DE-NA0003525 with National Technology and\n#  Engineering Solutions of Sandia, LLC, the U.S. Government retains certain\n#  rights in this software.\n#  This software is distributed under the 3-clause BSD License.\n#  ___________________________________________________________________________"
      ]
    },
    {
      "cell_type": "markdown",
      "metadata": {},
      "source": [
        "# Max Flow\n",
        "\n",
        "## Summary\n",
        "\n",
        "The goal of the maximum flow problem is to find the maximum flow possible in a network from some given source node to a given sink node.  Applications of the max flow problem include finding the maximum flow of orders through a job shop, the maximum flow of water through a storm sewer system, and the maximum flow of product through a product distribution system, among others. Schrijver (2002) note that the maximum flow problem was first formulated in 1954 by T. E. Harris and F. S. Ross as a simplified model of Soviet railway traffic flow.\n",
        "\n",
        "A network is a directed graph, and the arc capacities, or upper bounds, are the only relevant parameters.  A network graph does not have to be symmetric: if an arc (v,w) is in the graph, the reverse arc (w,v) does not have to be in the graph. Further, parallel arcs are not allowed, and self-loops are not allowed. The source and the sink are distinct nodes in the network, but the sink may be unreachable from the source.\n",
        " \n",
        "\n",
        "## Problem Statement\n",
        "\n",
        "The max flow problem can be formulated mathematically as a linear programming problem using the following model.  \n",
        "\n",
        "### Sets\n",
        "\n",
        " $N$ = nodes in the network  \n",
        " $A$ = network arcs\n",
        "\n",
        "### Parameters\n",
        "\n",
        " $s$ = source node  \n",
        " $t$ = sink node  \n",
        " $c_{ij}$ = arc flow capacity, $\\forall (i,j) \\in A$\n",
        " \n",
        "### Variables\n",
        " $f_{i,j}$ = arc flow, $\\forall (i,j) \\in A$\n",
        "\n",
        "### Objective\n",
        "\n",
        "Maximize the flow into the sink nodes  \n",
        " $\\max \\sum_{\\{i \\mid (i,t) \\in A\\}} c_{i,t} f_{i,t}$\n",
        "\n",
        "### Constraints\n",
        "\n",
        "Enforce an upper limit on the flow across each arc  \n",
        " $f_{i,j} \\leq c_{i,j}$, $\\forall (i,j) \\in A$\n",
        "\n",
        "Enforce flow through each node  \n",
        " $\\sum_{\\{i \\mid (i,j) \\in A\\}} f_{i,j} = \\sum_{\\{i \\mid (j,i) \\in A\\}} f_{j,i}$, $\\forall j \\in N - \\{s,t\\}$\n",
        " \n",
        "Flow lower bound  \n",
        " $f_{i,j} \\geq 0$, $\\forall (i,j) \\in A$\n",
        "\n",
        "## Pyomo Formulation\n",
        "\n",
        "We begin by importing the Pyomo package and creating a model object:"
      ]
    },
    {
      "cell_type": "code",
      "execution_count": 1,
      "metadata": {
        "collapsed": true
      },
      "outputs": [],
      "source": [
        "from pyomo.environ import *\n",
        "\n",
        "model = AbstractModel()"
      ]
    },
    {
      "cell_type": "markdown",
      "metadata": {},
      "source": [
        "The sets $N$ and $A$ are declared abstractly using the `Set` component:"
      ]
    },
    {
      "cell_type": "code",
      "execution_count": 2,
      "metadata": {
        "collapsed": true
      },
      "outputs": [],
      "source": [
        "# Nodes in the network\n",
        "model.N = Set()\n",
        "# Network arcs\n",
        "model.A = Set(within=model.N*model.N)"
      ]
    },
    {
      "cell_type": "markdown",
      "metadata": {},
      "source": [
        "Similarly, the model parameters are defined abstractly using the `Param` component:"
      ]
    },
    {
      "cell_type": "code",
      "execution_count": 3,
      "metadata": {},
      "outputs": [],
      "source": [
        "# Source node\n",
        "model.s = Param(within=model.N)\n",
        "# Sink node\n",
        "model.t = Param(within=model.N)\n",
        "# Flow capacity limits\n",
        "model.c = Param(model.A)"
      ]
    },
    {
      "cell_type": "markdown",
      "metadata": {},
      "source": [
        "The `within` option is used in these parameter declarations to define expected properties of the parameters.  This information is used to perform error checks on the data that is used to initialize the parameter components.\n",
        "\n",
        "The `Var` component is used to define the decision variables:"
      ]
    },
    {
      "cell_type": "code",
      "execution_count": 4,
      "metadata": {
        "collapsed": true
      },
      "outputs": [],
      "source": [
        "# The flow over each arc\n",
        "model.f = Var(model.A, within=NonNegativeReals)"
      ]
    },
    {
      "cell_type": "markdown",
      "metadata": {},
      "source": [
        "The `within` option is used to restrict the domain of the decision variables to the non-negative reals. This eliminates the need for explicit bound constraints for variables.\n",
        "\n",
        "The `Objective` component is used to define the cost objective.  This component uses a rule function to construct the objective expression:"
      ]
    },
    {
      "cell_type": "code",
      "execution_count": 5,
      "metadata": {
        "collapsed": true
      },
      "outputs": [],
      "source": [
        "# Maximize the flow into the sink nodes\n",
        "def total_rule(model):\n",
        "    return sum(model.f[i,j] for (i, j) in model.A if j == value(model.t))\n",
        "model.total = Objective(rule=total_rule, sense=maximize)"
      ]
    },
    {
      "cell_type": "markdown",
      "metadata": {},
      "source": [
        "Similarly, rule functions are used to define constraint expressions in the `Constraint` component:"
      ]
    },
    {
      "cell_type": "code",
      "execution_count": 6,
      "metadata": {
        "collapsed": true
      },
      "outputs": [],
      "source": [
        "# Enforce an upper limit on the flow across each arc\n",
        "def limit_rule(model, i, j):\n",
        "    return model.f[i,j] <= model.c[i, j]\n",
        "model.limit = Constraint(model.A, rule=limit_rule)\n",
        "\n",
        "# Enforce flow through each node\n",
        "def flow_rule(model, k):\n",
        "    if k == value(model.s) or k == value(model.t):\n",
        "        return Constraint.Skip\n",
        "    inFlow  = sum(model.f[i,j] for (i,j) in model.A if j == k)\n",
        "    outFlow = sum(model.f[i,j] for (i,j) in model.A if i == k)\n",
        "    return inFlow == outFlow\n",
        "model.flow = Constraint(model.N, rule=flow_rule)"
      ]
    },
    {
      "cell_type": "markdown",
      "metadata": {},
      "source": [
        "Putting these declarations all together gives the following model:"
      ]
    },
    {
      "cell_type": "code",
      "execution_count": 7,
      "metadata": {},
      "outputs": [
        {
          "name": "stdout",
          "output_type": "stream",
          "text": [
            "from pyomo.environ import *\r\n",
            "\r\n",
            "model = AbstractModel()\r\n",
            "\r\n",
            "# Nodes in the network\r\n",
            "model.N = Set()\r\n",
            "# Network arcs\r\n",
            "model.A = Set(within=model.N*model.N)\r\n",
            "\r\n",
            "# Source node\r\n",
            "model.s = Param(within=model.N)\r\n",
            "# Sink node\r\n",
            "model.t = Param(within=model.N)\r\n",
            "# Flow capacity limits\r\n",
            "model.c = Param(model.A)\r\n",
            "\r\n",
            "# The flow over each arc\r\n",
            "model.f = Var(model.A, within=NonNegativeReals)\r\n",
            "\r\n",
            "# Maximize the flow into the sink nodes\r\n",
            "def total_rule(model):\r\n",
            "    return sum(model.f[i,j] for (i, j) in model.A if j == value(model.t))\r\n",
            "model.total = Objective(rule=total_rule, sense=maximize)\r\n",
            "\r\n",
            "# Enforce an upper limit on the flow across each arc\r\n",
            "def limit_rule(model, i, j):\r\n",
            "    return model.f[i,j] <= model.c[i, j]\r\n",
            "model.limit = Constraint(model.A, rule=limit_rule)\r\n",
            "\r\n",
            "# Enforce flow through each node\r\n",
            "def flow_rule(model, k):\r\n",
            "    if k == value(model.s) or k == value(model.t):\r\n",
            "        return Constraint.Skip\r\n",
            "    inFlow  = sum(model.f[i,j] for (i,j) in model.A if j == k)\r\n",
            "    outFlow = sum(model.f[i,j] for (i,j) in model.A if i == k)\r\n",
            "    return inFlow == outFlow\r\n",
            "model.flow = Constraint(model.N, rule=flow_rule)\r\n",
            "\r\n"
          ]
        }
      ],
      "source": [
        "!cat maxflow.py"
      ]
    },
    {
      "cell_type": "markdown",
      "metadata": {},
      "source": [
        "## Model Data\n",
        "\n",
        "Since this is an abstract Pyomo model, the set and parameter values need to be provided to initialize the model.  The following data command file provides a synthetic data set:"
      ]
    },
    {
      "cell_type": "code",
      "execution_count": 8,
      "metadata": {},
      "outputs": [
        {
          "name": "stdout",
          "output_type": "stream",
          "text": [
            "set N := Zoo A B C D E Home;\r\n",
            "set A := (Zoo,A) (Zoo,B) (A,C) (A,D) (B,A) (B,C) (C,D) (C,E) (D,E) (D,Home) (E,Home);\r\n",
            "\r\n",
            "param s := Zoo;\r\n",
            "param t := Home;\r\n",
            "param: c :=\r\n",
            "Zoo A 11\r\n",
            "Zoo B 8\r\n",
            "A C 5\r\n",
            "A D 8\r\n",
            "B A 4\r\n",
            "B C 3\r\n",
            "C D 2\r\n",
            "C E 4\r\n",
            "D E 5\r\n",
            "D Home 8\r\n",
            "E Home 6;\r\n"
          ]
        }
      ],
      "source": [
        "!cat maxflow.dat"
      ]
    },
    {
      "cell_type": "markdown",
      "metadata": {},
      "source": [
        "Set data is defined with the `set` command, and parameter data is defined with the `param` command.\n",
        "\n",
        "This data set considers the problem of maximizing flow in a zoo. A panda is about to give birth at the zoo! Officials anticipate that attendance will skyrocket to see the new, adorable baby panda. There's one particular residential area called \"Home\" that is full of panda loving families and there's a fear that the increased number of people visiting the zoo will overload the public transportation system. It will be especially bad in the evening since the zoo closes about the same time as rush hour, so everyone will be trying to find space on the already crowded buses and subways. As a city planner, you were given a map of routes from the zoo to Home, along with the estimated number of families that could go on each route. Additionally, it was estimated that 16 families from Home will visit each day, and it's your task to figure out if this will overload the public transportation system, and, if it does, how could the system be improved?\n",
        "\n",
        "## Solution\n",
        "\n",
        "Pyomo includes a `pyomo` command that automates the construction and optimization of models.  The GLPK solver can be used in this simple example:"
      ]
    },
    {
      "cell_type": "code",
      "execution_count": 9,
      "metadata": {},
      "outputs": [
        {
          "name": "stdout",
          "output_type": "stream",
          "text": [
            "[    0.00] Setting up Pyomo environment\r\n",
            "[    0.00] Applying Pyomo preprocessing actions\r\n",
            "[    0.00] Creating model\r\n",
            "[    0.02] Applying solver\r\n",
            "[    0.06] Processing results\r\n",
            "    Number of solutions: 1\r\n",
            "    Solution Information\r\n",
            "      Gap: 0.0\r\n",
            "      Status: feasible\r\n",
            "      Function Value: 14.0\r\n",
            "    Solver results file: results.json\r\n",
            "[    0.06] Applying Pyomo postprocessing actions\r\n",
            "[    0.06] Pyomo Finished\r\n"
          ]
        }
      ],
      "source": [
        "!pyomo solve --solver=glpk maxflow.py maxflow.dat"
      ]
    },
    {
      "cell_type": "markdown",
      "metadata": {},
      "source": [
        "By default, the optimization results are stored in the file `results.yml`:"
      ]
    },
    {
      "cell_type": "code",
      "execution_count": 10,
      "metadata": {},
      "outputs": [
        {
          "name": "stdout",
          "output_type": "stream",
          "text": [
            "# ==========================================================\r\n",
            "# = Solver Results                                         =\r\n",
            "# ==========================================================\r\n",
            "# ----------------------------------------------------------\r\n",
            "#   Problem Information\r\n",
            "# ----------------------------------------------------------\r\n",
            "Problem: \r\n",
            "- Name: unknown\r\n",
            "  Lower bound: 14.0\r\n",
            "  Upper bound: 14.0\r\n",
            "  Number of objectives: 1\r\n",
            "  Number of constraints: 17\r\n",
            "  Number of variables: 12\r\n",
            "  Number of nonzeros: 30\r\n",
            "  Sense: maximize\r\n",
            "# ----------------------------------------------------------\r\n",
            "#   Solver Information\r\n",
            "# ----------------------------------------------------------\r\n",
            "Solver: \r\n",
            "- Status: ok\r\n",
            "  Termination condition: optimal\r\n",
            "  Statistics: \r\n",
            "    Branch and bound: \r\n",
            "      Number of bounded subproblems: 0\r\n",
            "      Number of created subproblems: 0\r\n",
            "  Error rc: 0\r\n",
            "  Time: 0.00943398475647\r\n",
            "# ----------------------------------------------------------\r\n",
            "#   Solution Information\r\n",
            "# ----------------------------------------------------------\r\n",
            "Solution: \r\n",
            "- number of solutions: 1\r\n",
            "  number of solutions displayed: 1\r\n",
            "- Gap: 0.0\r\n",
            "  Status: feasible\r\n",
            "  Message: None\r\n",
            "  Objective:\r\n",
            "    total:\r\n",
            "      Value: 14\r\n",
            "  Variable:\r\n",
            "    f[C,E]:\r\n",
            "      Value: 4\r\n",
            "    f[C,D]:\r\n",
            "      Value: 2\r\n",
            "    f[Zoo,A]:\r\n",
            "      Value: 7\r\n",
            "    f[A,C]:\r\n",
            "      Value: 3\r\n",
            "    f[E,Home]:\r\n",
            "      Value: 6\r\n",
            "    f[B,A]:\r\n",
            "      Value: 4\r\n",
            "    f[D,Home]:\r\n",
            "      Value: 8\r\n",
            "    f[D,E]:\r\n",
            "      Value: 2\r\n",
            "    f[B,C]:\r\n",
            "      Value: 3\r\n",
            "    f[Zoo,B]:\r\n",
            "      Value: 7\r\n",
            "    f[A,D]:\r\n",
            "      Value: 8\r\n",
            "  Constraint: No values\r\n"
          ]
        }
      ],
      "source": [
        "!cat results.yml"
      ]
    },
    {
      "cell_type": "markdown",
      "metadata": {},
      "source": [
        "This output tells us how many people should travel along each route for the optimal solution. More importantly, though, is the line which says our objective value is 14. This means that at most 14 families can arrive at Home. However, we were told 16 families from Home were expected to visit the zoo each day. Therefore, unless something is done, the public transportation network in place will be overloaded."
      ]
    },
    {
      "cell_type": "markdown",
      "metadata": {},
      "source": [
        "## References\n",
        "\n",
        "* A. Schrijver, (2002). \"On the history of the transportation and maximum flow problems\". Mathematical Programming 91 (3): 437\u2013445. "
      ]
    }
  ],
  "metadata": {
    "kernelspec": {
      "display_name": "Python 3",
      "language": "python",
      "name": "python3"
    },
    "language_info": {
      "codemirror_mode": {
        "name": "ipython",
        "version": 3
      },
      "file_extension": ".py",
      "mimetype": "text/x-python",
      "name": "python",
      "nbconvert_exporter": "python",
      "pygments_lexer": "ipython3",
      "version": "3.6.1"
    }
  },
  "nbformat": 4,
  "nbformat_minor": 1
}