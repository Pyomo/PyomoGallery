{
  "cells": [
    {
      "cell_type": "code",
      "execution_count": null,
      "metadata": {},
      "outputs": [],
      "source": [
        "#  ___________________________________________________________________________\n#\n#  Pyomo: Python Optimization Modeling Objects\n#  Copyright (c) 2015-2025\n#  National Technology and Engineering Solutions of Sandia, LLC\n#  Under the terms of Contract DE-NA0003525 with National Technology and\n#  Engineering Solutions of Sandia, LLC, the U.S. Government retains certain\n#  rights in this software.\n#  This software is distributed under the 3-clause BSD License.\n#  ___________________________________________________________________________"
      ]
    },
    {
      "cell_type": "code",
      "execution_count": 1,
      "metadata": {},
      "outputs": [
        {
          "name": "stdout",
          "output_type": "stream",
          "text": [
            "import pyomo\r\n",
            "import pandas\r\n",
            "import pyomo.opt\r\n",
            "import pyomo.environ as pe\r\n",
            "\r\n",
            "class MinCostFlow:\r\n",
            "    \"\"\"This class implements a standard min-cost-flow model.  \r\n",
            "    \r\n",
            "    It takes as input two csv files, providing data for the nodes and the arcs of the network.  The nodes file should have columns:\r\n",
            "    \r\n",
            "    Node, Imbalance\r\n",
            "\r\n",
            "    that specify the node name and the flow imbalance at the node.  The arcs file should have columns:\r\n",
            "\r\n",
            "    Start, End, Cost, UpperBound, LowerBound\r\n",
            "\r\n",
            "    that specify an arc start node, an arc end node, a cost for the arc, and upper and lower bounds for the flow.\"\"\"\r\n",
            "    def __init__(self, nodesfile, arcsfile):\r\n",
            "        \"\"\"Read in the csv data.\"\"\"\r\n",
            "        # Read in the nodes file\r\n",
            "        self.node_data = pandas.read_csv('nodes.csv')\r\n",
            "        self.node_data.set_index(['Node'], inplace=True)\r\n",
            "        self.node_data.sort_index(inplace=True)\r\n",
            "        # Read in the arcs file\r\n",
            "        self.arc_data = pandas.read_csv('arcs.csv')\r\n",
            "        self.arc_data.set_index(['Start','End'], inplace=True)\r\n",
            "        self.arc_data.sort_index(inplace=True)\r\n",
            "\r\n",
            "        self.node_set = self.node_data.index.unique()\r\n",
            "        self.arc_set = self.arc_data.index.unique()\r\n",
            "\r\n",
            "        self.createModel()\r\n",
            "\r\n",
            "    def createModel(self):\r\n",
            "        \"\"\"Create the pyomo model given the csv data.\"\"\"\r\n",
            "        self.m = pe.ConcreteModel()\r\n",
            "\r\n",
            "        # Create sets\r\n",
            "        self.m.node_set = pe.Set( initialize=self.node_set )\r\n",
            "        self.m.arc_set = pe.Set( initialize=self.arc_set , dimen=2)\r\n",
            "\r\n",
            "        # Create variables\r\n",
            "        self.m.Y = pe.Var(self.m.arc_set, domain=pe.NonNegativeReals)\r\n",
            "\r\n",
            "        # Create objective\r\n",
            "        def obj_rule(m):\r\n",
            "            return sum(m.Y[e] * self.arc_data.ix[e,'Cost'] for e in self.arc_set)\r\n",
            "        self.m.OBJ = pe.Objective(rule=obj_rule, sense=pe.minimize)\r\n",
            "        \r\n",
            "        # Flow Ballance rule\r\n",
            "        def flow_bal_rule(m, n):\r\n",
            "            arcs = self.arc_data.reset_index()\r\n",
            "            preds = arcs[ arcs.End == n ]['Start']\r\n",
            "            succs = arcs[ arcs.Start == n ]['End']\r\n",
            "            return sum(m.Y[(p,n)] for p in preds) - sum(m.Y[(n,s)] for s in succs) == self.node_data.ix[n,'Imbalance']\r\n",
            "        self.m.FlowBal = pe.Constraint(self.m.node_set, rule=flow_bal_rule)\r\n",
            "\r\n",
            "        # Upper bounds rule\r\n",
            "        def upper_bounds_rule(m, n1, n2):\r\n",
            "            e = (n1,n2)\r\n",
            "            if self.arc_data.ix[e, 'UpperBound'] < 0:\r\n",
            "                return pe.Constraint.Skip\r\n",
            "            return m.Y[e] <= self.arc_data.ix[e, 'UpperBound']\r\n",
            "        self.m.UpperBound = pe.Constraint(self.m.arc_set, rule=upper_bounds_rule)\r\n",
            "        \r\n",
            "        # Lower bounds rule\r\n",
            "        def lower_bounds_rule(m, n1, n2):\r\n",
            "            e = (n1,n2)\r\n",
            "            if self.arc_data.ix[e, 'LowerBound'] < 0:\r\n",
            "                return pe.Constraint.Skip\r\n",
            "            return m.Y[e] >= self.arc_data.ix[e, 'LowerBound']\r\n",
            "        self.m.LowerBound = pe.Constraint(self.m.arc_set, rule=lower_bounds_rule)\r\n",
            "\r\n",
            "    def solve(self):\r\n",
            "        \"\"\"Solve the model.\"\"\"\r\n",
            "        solver = pyomo.opt.SolverFactory('gurobi')\r\n",
            "        results = solver.solve(self.m, tee=True, keepfiles=False, options_string=\"mip_tolerances_integrality=1e-9 mip_tolerances_mipgap=0\")\r\n",
            "\r\n",
            "        if (results.solver.status != pyomo.opt.SolverStatus.ok):\r\n",
            "            logging.warning('Check solver not ok?')\r\n",
            "        if (results.solver.termination_condition != pyomo.opt.TerminationCondition.optimal):  \r\n",
            "            logging.warning('Check solver optimality?') \r\n",
            "\r\n",
            "\r\n",
            "if __name__ == '__main__':\r\n",
            "       sp = MinCostFlow('nodes.csv', 'arcs.csv') \r\n",
            "       sp.solve()\r\n",
            "       print('\\n\\n---------------------------')\r\n",
            "       print('Cost: ', sp.m.OBJ())\r\n"
          ]
        }
      ],
      "source": [
        "!cat min_cost_flow.py"
      ]
    },
    {
      "cell_type": "code",
      "execution_count": 2,
      "metadata": {},
      "outputs": [
        {
          "name": "stdout",
          "output_type": "stream",
          "text": [
            "No parameters matching 'mip_tolerances_integrality' found\r\n",
            "No parameters matching 'mip_tolerances_mipgap' found\r\n",
            "Optimize a model with 7 rows, 8 columns and 16 nonzeros\r\n",
            "Coefficient statistics:\r\n",
            "  Matrix range    [1e+00, 1e+00]\r\n",
            "  Objective range [1e+00, 5e+00]\r\n",
            "  Bounds range    [0e+00, 0e+00]\r\n",
            "  RHS range       [1e+00, 1e+00]\r\n",
            "Presolve removed 5 rows and 7 columns\r\n",
            "Presolve time: 0.00s\r\n",
            "Presolved: 2 rows, 1 columns, 2 nonzeros\r\n",
            "\r\n",
            "Iteration    Objective       Primal Inf.    Dual Inf.      Time\r\n",
            "       0    5.0000000e+00   0.000000e+00   0.000000e+00      0s\r\n",
            "       0    5.0000000e+00   0.000000e+00   0.000000e+00      0s\r\n",
            "\r\n",
            "Solved in 0 iterations and 0.00 seconds\r\n",
            "Optimal objective  5.000000000e+00\r\n",
            "\r\n",
            "\r\n",
            "---------------------------\r\n",
            "Cost:  5.0\r\n"
          ]
        }
      ],
      "source": [
        "!python min_cost_flow.py"
      ]
    }
  ],
  "metadata": {
    "kernelspec": {
      "display_name": "Python 3",
      "language": "python",
      "name": "python3"
    },
    "language_info": {
      "codemirror_mode": {
        "name": "ipython",
        "version": 3
      },
      "file_extension": ".py",
      "mimetype": "text/x-python",
      "name": "python",
      "nbconvert_exporter": "python",
      "pygments_lexer": "ipython3",
      "version": "3.6.1"
    }
  },
  "nbformat": 4,
  "nbformat_minor": 1
}