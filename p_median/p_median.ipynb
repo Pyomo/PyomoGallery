{
  "cells": [
    {
      "cell_type": "code",
      "execution_count": null,
      "metadata": {},
      "outputs": [],
      "source": [
        "#  ___________________________________________________________________________\n#\n#  Pyomo: Python Optimization Modeling Objects\n#  Copyright (c) 2015-2025\n#  National Technology and Engineering Solutions of Sandia, LLC\n#  Under the terms of Contract DE-NA0003525 with National Technology and\n#  Engineering Solutions of Sandia, LLC, the U.S. Government retains certain\n#  rights in this software.\n#  This software is distributed under the 3-clause BSD License.\n#  ___________________________________________________________________________"
      ]
    },
    {
      "cell_type": "markdown",
      "metadata": {},
      "source": [
        "# The $p$-Median Problem\n",
        "\n",
        "## Summary\n",
        "\n",
        "The goal of the $p$-median problem is to locating $p$ facilities to minimize the demand weighted average distance between demand nodes and the nearest of the selected facilities. Hakimi (1964, 1965) first considered this problem for the design of network switch centers. \n",
        "However, this problem has been used to model a wide range of applications, such as warehouse location, depot location, school districting and sensor placement.\n",
        "\n",
        "\n",
        "## Problem Statement\n",
        "\n",
        "The $p$-median problem can be formulated mathematically as an integer programming problem using the following model.  \n",
        "\n",
        "### Sets\n",
        "\n",
        " $M$ = set of candidate locations  \n",
        " $N$ = set of customer demand nodes\n",
        "\n",
        "### Parameters\n",
        "\n",
        " $p$ = number of facilities to locate  \n",
        " $d_j$ = demand of customer $j$, $\\forall j \\in N$  \n",
        " $c_{ij}$ = unit cost of satisfying customer $j$ from facility $i$, $\\forall i \\in M, \\forall j \\in N$\n",
        " \n",
        "### Variables\n",
        " $x_{ij}$ = fraction of the demand of customer $j$ that is supplied by facility $i$, $\\forall i \\in M, \\forall j \\in N$  \n",
        " $y_i$ = a binary value that is $1$ is a facility is located at location $i$, $\\forall i \\in M$\n",
        "\n",
        "### Objective\n",
        "\n",
        "Minimize the demand-weighted total cost  \n",
        " $\\min \\sum_{i \\in M} \\sum_{j \\in N} d_j c_{ij} x_{ij}$\n",
        "\n",
        "### Constraints\n",
        "\n",
        "All of the demand for customer $j$ must be satisfied  \n",
        " $\\sum_{i \\in M} x_{ij} = 1$, $\\forall j \\in N$\n",
        "\n",
        "Exactly $p$ facilities are located  \n",
        " $\\sum_{i \\in M} y_i = p$\n",
        " \n",
        "Demand nodes can only be assigned to open facilities  \n",
        " $x_{ij} \\leq y_i$, $\\forall i \\in M, \\forall j \\in N$\n",
        " \n",
        "The assignment variables must be non-negative  \n",
        " $x_{ij} \\geq 0$, $\\forall i \\in M, \\forall j \\in N$\n",
        "\n",
        "## Pyomo Formulation\n",
        "\n",
        "The following is an abstract Pyomo model for this problem:"
      ]
    },
    {
      "cell_type": "code",
      "execution_count": 1,
      "metadata": {},
      "outputs": [
        {
          "name": "stdout",
          "output_type": "stream",
          "text": [
            "from pyomo.environ import *\r\n",
            "import random\r\n",
            "\r\n",
            "random.seed(1000)\r\n",
            "\r\n",
            "model = AbstractModel()\r\n",
            "\r\n",
            "# Number of candidate locations\r\n",
            "model.m = Param(within=PositiveIntegers)\r\n",
            "# Number of customers\r\n",
            "model.n = Param(within=PositiveIntegers)\r\n",
            "# Set of candidate locations\r\n",
            "model.M = RangeSet(1,model.m)\r\n",
            "# Set of customer nodes\r\n",
            "model.N = RangeSet(1,model.n)\r\n",
            "\r\n",
            "# Number of facilities\r\n",
            "model.p = Param(within=RangeSet(1,model.n))\r\n",
            "# d[j] - demand of customer j\r\n",
            "model.d = Param(model.N, default=1.0)\r\n",
            "# c[i,j] - unit cost of satisfying customer j from facility i\r\n",
            "model.c = Param(model.M, model.N, initialize=lambda i, j, model : random.uniform(1.0,2.0), within=Reals)\r\n",
            "\r\n",
            "# x[i,j] - fraction of the demand of customer j that is supplied by facility i\r\n",
            "model.x = Var(model.M, model.N, bounds=(0.0,1.0))\r\n",
            "# y[i] - a binary value that is 1 is a facility is located at location i\r\n",
            "model.y = Var(model.M, within=Binary)\r\n",
            "\r\n",
            "# Minimize the demand-weighted total cost\r\n",
            "def cost_(model):\r\n",
            "    return sum(model.d[j]*model.c[i,j]*model.x[i,j] for i in model.M for j in model.N)\r\n",
            "model.cost = Objective(rule=cost_)\r\n",
            "\r\n",
            "# All of the demand for customer j must be satisfied\r\n",
            "def demand_(model, j):\r\n",
            "    return sum(model.x[i,j] for i in model.M) == 1.0\r\n",
            "model.demand = Constraint(model.N, rule=demand_)\r\n",
            "\r\n",
            "# Exactly p facilities are located\r\n",
            "def facilities_(model):\r\n",
            "    return sum(model.y[i] for i in model.M) == model.p\r\n",
            "model.facilities = Constraint(rule=facilities_)\r\n",
            "\r\n",
            "# Demand nodes can only be assigned to open facilities \r\n",
            "def openfac_(model, i, j):\r\n",
            "    return model.x[i,j] <= model.y[i]\r\n",
            "model.openfac = Constraint(model.M, model.N, rule=openfac_)\r\n"
          ]
        }
      ],
      "source": [
        "!cat p-median.py"
      ]
    },
    {
      "cell_type": "markdown",
      "metadata": {},
      "source": [
        "****\n",
        "This model is simplified in several respects.  First, the candidate locations and customer locations are treated as numeric ranges.  Second, the demand values, $d_j$ are initialized with a default value of $1$.  Finally, the cost values, $c_{ij}$ are randomly assigned.\n",
        "\n",
        "## Model Data\n",
        "\n",
        "This model is parameterized by three values: the number of facility locations, the number of customers, and the number of facilities.  For example:"
      ]
    },
    {
      "cell_type": "code",
      "execution_count": 2,
      "metadata": {},
      "outputs": [
        {
          "name": "stdout",
          "output_type": "stream",
          "text": [
            "param m := 10;\r\n",
            "param n := 6;\r\n",
            "param p := 3;\r\n"
          ]
        }
      ],
      "source": [
        "!cat p-median.dat"
      ]
    },
    {
      "cell_type": "markdown",
      "metadata": {},
      "source": [
        "****\n",
        "\n",
        "## Solution\n",
        "\n",
        "Pyomo includes a `pyomo` command that automates the construction and optimization of models.  The GLPK solver can be used in this simple example:"
      ]
    },
    {
      "cell_type": "code",
      "execution_count": 3,
      "metadata": {},
      "outputs": [
        {
          "name": "stdout",
          "output_type": "stream",
          "text": [
            "[    0.00] Setting up Pyomo environment\r\n",
            "[    0.00] Applying Pyomo preprocessing actions\r\n",
            "[    0.00] Creating model\r\n",
            "[    0.02] Applying solver\r\n",
            "[    0.06] Processing results\r\n",
            "    Number of solutions: 1\r\n",
            "    Solution Information\r\n",
            "      Gap: 0.0\r\n",
            "      Status: optimal\r\n",
            "      Function Value: 6.431184939357673\r\n",
            "    Solver results file: results.json\r\n",
            "[    0.07] Applying Pyomo postprocessing actions\r\n",
            "[    0.07] Pyomo Finished\r\n"
          ]
        }
      ],
      "source": [
        "!pyomo solve --solver=glpk p-median.py p-median.dat"
      ]
    },
    {
      "cell_type": "markdown",
      "metadata": {},
      "source": [
        "By default, the optimization results are stored in the file `results.yml`:"
      ]
    },
    {
      "cell_type": "code",
      "execution_count": 4,
      "metadata": {},
      "outputs": [
        {
          "name": "stdout",
          "output_type": "stream",
          "text": [
            "# ==========================================================\r\n",
            "# = Solver Results                                         =\r\n",
            "# ==========================================================\r\n",
            "# ----------------------------------------------------------\r\n",
            "#   Problem Information\r\n",
            "# ----------------------------------------------------------\r\n",
            "Problem: \r\n",
            "- Name: unknown\r\n",
            "  Lower bound: 6.43118493936\r\n",
            "  Upper bound: 6.43118493936\r\n",
            "  Number of objectives: 1\r\n",
            "  Number of constraints: 68\r\n",
            "  Number of variables: 71\r\n",
            "  Number of nonzeros: 191\r\n",
            "  Sense: minimize\r\n",
            "# ----------------------------------------------------------\r\n",
            "#   Solver Information\r\n",
            "# ----------------------------------------------------------\r\n",
            "Solver: \r\n",
            "- Status: ok\r\n",
            "  Termination condition: optimal\r\n",
            "  Statistics: \r\n",
            "    Branch and bound: \r\n",
            "      Number of bounded subproblems: 1\r\n",
            "      Number of created subproblems: 1\r\n",
            "  Error rc: 0\r\n",
            "  Time: 0.0117330551147\r\n",
            "# ----------------------------------------------------------\r\n",
            "#   Solution Information\r\n",
            "# ----------------------------------------------------------\r\n",
            "Solution: \r\n",
            "- number of solutions: 1\r\n",
            "  number of solutions displayed: 1\r\n",
            "- Gap: 0.0\r\n",
            "  Status: optimal\r\n",
            "  Message: None\r\n",
            "  Objective:\r\n",
            "    cost:\r\n",
            "      Value: 6.43118493936\r\n",
            "  Variable:\r\n",
            "    x[6,5]:\r\n",
            "      Value: 1\r\n",
            "    y[3]:\r\n",
            "      Value: 1\r\n",
            "    x[6,2]:\r\n",
            "      Value: 1\r\n",
            "    x[9,6]:\r\n",
            "      Value: 1\r\n",
            "    y[9]:\r\n",
            "      Value: 1\r\n",
            "    x[3,4]:\r\n",
            "      Value: 1\r\n",
            "    y[6]:\r\n",
            "      Value: 1\r\n",
            "    x[6,3]:\r\n",
            "      Value: 1\r\n",
            "    x[6,1]:\r\n",
            "      Value: 1\r\n",
            "  Constraint: No values\r\n"
          ]
        }
      ],
      "source": [
        "!cat results.yml"
      ]
    },
    {
      "cell_type": "markdown",
      "metadata": {},
      "source": [
        "****\n",
        "\n",
        "This solution places facilities at locations 3, 6 and 9.  Facility 3 meets the demand of customer 4, facility 6 meets the demand of customers 1, 2, 3 and 5, and facility 9 meets the demand of customer 6."
      ]
    },
    {
      "cell_type": "markdown",
      "metadata": {},
      "source": [
        "## References\n",
        "\n",
        "* S.L. Hakimi (1964) Optimum location of switching centers and the absolute centers and medians of a graph. Oper Res 12:450\u2013459\n",
        "* S.L. Hakimi (1965) Optimum distribution of switching centers in a communication network and some related graph theoretic problems. Oper Res 13:462\u2013475"
      ]
    }
  ],
  "metadata": {
    "kernelspec": {
      "display_name": "Python 3",
      "language": "python",
      "name": "python3"
    },
    "language_info": {
      "codemirror_mode": {
        "name": "ipython",
        "version": 3
      },
      "file_extension": ".py",
      "mimetype": "text/x-python",
      "name": "python",
      "nbconvert_exporter": "python",
      "pygments_lexer": "ipython3",
      "version": "3.6.1"
    }
  },
  "nbformat": 4,
  "nbformat_minor": 1
}